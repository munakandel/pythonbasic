{
 "cells": [
  {
   "cell_type": "code",
   "execution_count": null,
   "metadata": {},
   "outputs": [],
   "source": [
    "# print\n",
    "print(\"hello World\") "
   ]
  },
  {
   "cell_type": "code",
   "execution_count": 1,
   "metadata": {},
   "outputs": [
    {
     "name": "stdout",
     "output_type": "stream",
     "text": [
      "12\n",
      "2.5\n",
      "muna\n"
     ]
    }
   ],
   "source": [
    "# variables and data types\n",
    "a=12\n",
    "b=2.5\n",
    "c=\"muna\"\n",
    "print(a)\n",
    "print(b)\n",
    "print(c)"
   ]
  },
  {
   "cell_type": "code",
   "execution_count": 2,
   "metadata": {},
   "outputs": [
    {
     "name": "stdout",
     "output_type": "stream",
     "text": [
      "<class 'int'>\n",
      "<class 'float'>\n",
      "<class 'str'>\n"
     ]
    }
   ],
   "source": [
    "#print data types\n",
    "a=12\n",
    "b=2.5\n",
    "c=\"muna\"\n",
    "print(type(a))\n",
    "print(type(b))\n",
    "print(type(c))"
   ]
  },
  {
   "cell_type": "code",
   "execution_count": null,
   "metadata": {},
   "outputs": [],
   "source": [
    "# arithmetic operator\n",
    "sum=2*5\n",
    "print(sum)"
   ]
  },
  {
   "cell_type": "code",
   "execution_count": null,
   "metadata": {},
   "outputs": [],
   "source": [
    "# assignment operator\n",
    "a=34\n",
    "a-=12\n",
    "print(a)"
   ]
  },
  {
   "cell_type": "code",
   "execution_count": null,
   "metadata": {},
   "outputs": [],
   "source": [
    "# comparison operator\n",
    "b=(4<7)\n",
    "print(b)"
   ]
  },
  {
   "cell_type": "code",
   "execution_count": null,
   "metadata": {},
   "outputs": [],
   "source": [
    "# logical operator\n",
    "a=True\n",
    "b=False\n",
    "print(a or b)"
   ]
  },
  {
   "cell_type": "code",
   "execution_count": 4,
   "metadata": {},
   "outputs": [
    {
     "name": "stdout",
     "output_type": "stream",
     "text": [
      "<class 'int'>\n"
     ]
    }
   ],
   "source": [
    "# typecasting\n",
    "a=10.5\n",
    "a=int(a)\n",
    "print(type(a))"
   ]
  },
  {
   "cell_type": "code",
   "execution_count": 5,
   "metadata": {},
   "outputs": [
    {
     "name": "stdout",
     "output_type": "stream",
     "text": [
      "5\n"
     ]
    }
   ],
   "source": [
    "# remainder\n",
    "a=45\n",
    "b=10\n",
    "\n",
    "print(a%b)"
   ]
  },
  {
   "cell_type": "code",
   "execution_count": 6,
   "metadata": {},
   "outputs": [
    {
     "name": "stdout",
     "output_type": "stream",
     "text": [
      "15.0\n"
     ]
    }
   ],
   "source": [
    "# finding average\n",
    "a=input(\"enter first number\")\n",
    "b=input(\"enter second number\")\n",
    "a=int(a)\n",
    "b=int(b)\n",
    "print((a+b)/2)"
   ]
  },
  {
   "cell_type": "code",
   "execution_count": 7,
   "metadata": {},
   "outputs": [
    {
     "name": "stdout",
     "output_type": "stream",
     "text": [
      "muna\n"
     ]
    }
   ],
   "source": [
    "# string\n",
    "print(\"muna\")"
   ]
  },
  {
   "cell_type": "code",
   "execution_count": 9,
   "metadata": {},
   "outputs": [
    {
     "name": "stdout",
     "output_type": "stream",
     "text": [
      "muna   kandel\n"
     ]
    }
   ],
   "source": [
    "# concatination\n",
    "a=\"muna\"\n",
    "b=\"   kandel\"\n",
    "print(a+b)"
   ]
  },
  {
   "cell_type": "code",
   "execution_count": 10,
   "metadata": {},
   "outputs": [
    {
     "name": "stdout",
     "output_type": "stream",
     "text": [
      "t\n"
     ]
    }
   ],
   "source": [
    "# indexing\n",
    "name=\"taylor\"\n",
    "print(name[0])\n"
   ]
  },
  {
   "cell_type": "code",
   "execution_count": 11,
   "metadata": {},
   "outputs": [
    {
     "ename": "TypeError",
     "evalue": "'str' object does not support item assignment",
     "output_type": "error",
     "traceback": [
      "\u001b[1;31m---------------------------------------------------------------------------\u001b[0m",
      "\u001b[1;31mTypeError\u001b[0m                                 Traceback (most recent call last)",
      "Cell \u001b[1;32mIn[11], line 3\u001b[0m\n\u001b[0;32m      1\u001b[0m \u001b[38;5;66;03m# string doesnot support item assignment\u001b[39;00m\n\u001b[0;32m      2\u001b[0m name\u001b[38;5;241m=\u001b[39m\u001b[38;5;124m\"\u001b[39m\u001b[38;5;124mtaylor\u001b[39m\u001b[38;5;124m\"\u001b[39m\n\u001b[1;32m----> 3\u001b[0m \u001b[43mname\u001b[49m\u001b[43m[\u001b[49m\u001b[38;5;241;43m3\u001b[39;49m\u001b[43m]\u001b[49m\u001b[38;5;241m=\u001b[39m\u001b[38;5;124m\"\u001b[39m\u001b[38;5;124md\u001b[39m\u001b[38;5;124m\"\u001b[39m\n\u001b[0;32m      4\u001b[0m \u001b[38;5;28mprint\u001b[39m(name[\u001b[38;5;241m3\u001b[39m])\n",
      "\u001b[1;31mTypeError\u001b[0m: 'str' object does not support item assignment"
     ]
    }
   ],
   "source": [
    "# string doesnot support item assignment\n",
    "name=\"taylor\"\n",
    "name[3]=\"d\"\n",
    "print(name[3])"
   ]
  },
  {
   "cell_type": "code",
   "execution_count": 12,
   "metadata": {},
   "outputs": [
    {
     "name": "stdout",
     "output_type": "stream",
     "text": [
      "ta\n"
     ]
    }
   ],
   "source": [
    "# slicing\n",
    "name=\"taylor\"\n",
    "print(name[0:2])"
   ]
  },
  {
   "cell_type": "code",
   "execution_count": 13,
   "metadata": {},
   "outputs": [
    {
     "name": "stdout",
     "output_type": "stream",
     "text": [
      "tayl\n"
     ]
    }
   ],
   "source": [
    "name=\"taylor\"\n",
    "print(name[ :4])"
   ]
  },
  {
   "cell_type": "code",
   "execution_count": 14,
   "metadata": {},
   "outputs": [
    {
     "name": "stdout",
     "output_type": "stream",
     "text": [
      "taylor\n"
     ]
    }
   ],
   "source": [
    "name=\"taylor\"\n",
    "print(name[0: ])"
   ]
  },
  {
   "cell_type": "code",
   "execution_count": 15,
   "metadata": {},
   "outputs": [
    {
     "name": "stdout",
     "output_type": "stream",
     "text": [
      "aylor\n"
     ]
    }
   ],
   "source": [
    "name=\"taylor\"\n",
    "print(name[1:])"
   ]
  },
  {
   "cell_type": "code",
   "execution_count": 16,
   "metadata": {},
   "outputs": [
    {
     "name": "stdout",
     "output_type": "stream",
     "text": [
      "ayl\n"
     ]
    }
   ],
   "source": [
    "# slicing with skip value\n",
    "name=\"taylor\"\n",
    "print(name[1:4:1])"
   ]
  },
  {
   "cell_type": "code",
   "execution_count": 17,
   "metadata": {},
   "outputs": [
    {
     "name": "stdout",
     "output_type": "stream",
     "text": [
      "al\n"
     ]
    }
   ],
   "source": [
    "name=\"taylor\"\n",
    "print(name[1:4:2])"
   ]
  },
  {
   "cell_type": "code",
   "execution_count": 18,
   "metadata": {},
   "outputs": [
    {
     "name": "stdout",
     "output_type": "stream",
     "text": [
      "14\n",
      "1\n",
      "1\n",
      "Thank you guys\n",
      "10\n",
      "thank you all\n"
     ]
    }
   ],
   "source": [
    "story=\"thank you guys\"\n",
    "print(len(story))\n",
    "print(story.count(\"a\"))\n",
    "print(story.count(\"you\"))\n",
    "print(story.capitalize())\n",
    "print(story.find(\"guys\"))\n",
    "print(story.replace(\"guys\",\"all\"))"
   ]
  },
  {
   "cell_type": "code",
   "execution_count": 19,
   "metadata": {},
   "outputs": [
    {
     "name": "stdout",
     "output_type": "stream",
     "text": [
      "python is easy to learn\n",
      "study\thard\n"
     ]
    }
   ],
   "source": [
    "print(\"python is easy to learn\\nstudy\\thard\")\n"
   ]
  },
  {
   "cell_type": "code",
   "execution_count": 20,
   "metadata": {},
   "outputs": [
    {
     "name": "stdout",
     "output_type": "stream",
     "text": [
      "    python programming is fun!    \n",
      "    PYTHON PROGRAMMING IS FUN!    \n",
      "Python Programming is fun!\n",
      "    Python Programming is awesome!    \n"
     ]
    }
   ],
   "source": [
    "# Using string methods\n",
    "sentence = \"    Python Programming is fun!    \"\n",
    "print(sentence.lower())        # Convert to lowercase\n",
    "print(sentence.upper())        # Convert to uppercase\n",
    "print(sentence.strip())        # Remove leading and trailing whitespaces\n",
    "print(sentence.replace('fun', 'awesome'))  # Replace substring\n"
   ]
  },
  {
   "cell_type": "code",
   "execution_count": 21,
   "metadata": {},
   "outputs": [
    {
     "name": "stdout",
     "output_type": "stream",
     "text": [
      "['mango', 2, True]\n",
      "mango\n",
      "['mango', 2]\n"
     ]
    }
   ],
   "source": [
    "# lists\n",
    "list=[\"mango\",2,True]\n",
    "print(list)\n",
    "print(list[0])\n",
    "# list slicing\n",
    "print(list[0:2])"
   ]
  },
  {
   "cell_type": "code",
   "execution_count": 22,
   "metadata": {},
   "outputs": [
    {
     "name": "stdout",
     "output_type": "stream",
     "text": [
      "Modified list: [1, 2, 10, 4, 5]\n"
     ]
    }
   ],
   "source": [
    "# Modifying elements in a list\n",
    "numbers = [1, 2, 3, 4, 5]\n",
    "numbers[2] = 10\n",
    "print(\"Modified list:\", numbers)\n"
   ]
  },
  {
   "cell_type": "code",
   "execution_count": 23,
   "metadata": {},
   "outputs": [
    {
     "name": "stdout",
     "output_type": "stream",
     "text": [
      "[1, 5, 7, 2, 8, 3]\n",
      "[1, 2, 3, 5, 7, 8]\n",
      "[8, 7, 5, 3, 2, 1]\n",
      "[8, 7, 5, 3, 2, 1, 0]\n",
      "[8, 7, 5, 6, 3, 2, 1, 0]\n",
      "[8, 7, 5, 6, 3, 2, 1]\n"
     ]
    }
   ],
   "source": [
    "# list methods\n",
    "l=[1,5,7,2,8,3]\n",
    "print(l)\n",
    "l.sort()\n",
    "print(l)\n",
    "l.reverse()\n",
    "print(l)\n",
    "l.append(0)\n",
    "print(l)\n",
    "# add 6 at index 3\n",
    "l.insert(3,6)\n",
    "print(l)\n",
    "# remove from list\n",
    "l.remove(0)\n",
    "print(l)"
   ]
  },
  {
   "cell_type": "code",
   "execution_count": 24,
   "metadata": {},
   "outputs": [
    {
     "name": "stdout",
     "output_type": "stream",
     "text": [
      "1\n"
     ]
    },
    {
     "data": {
      "text/plain": [
       "2"
      ]
     },
     "execution_count": 24,
     "metadata": {},
     "output_type": "execute_result"
    }
   ],
   "source": [
    "# tuples\n",
    "# empty tuple\n",
    "a=()\n",
    "# tuple with only one element needs a comma\n",
    "a=(1,)\n",
    "# tuple with more than one element\n",
    "a=(1,2,3,4)\n",
    "# tuple methods\n",
    "# count the no. of 1's in tuple\n",
    "print(a.count(1))\n",
    "# return the index of first occurrance of 3 in a\n",
    "a.index(3)\n"
   ]
  },
  {
   "cell_type": "code",
   "execution_count": 26,
   "metadata": {},
   "outputs": [
    {
     "name": "stdout",
     "output_type": "stream",
     "text": [
      "{}\n"
     ]
    }
   ],
   "source": [
    "# dictionary\n",
    "nce={}\n",
    "print(nce)"
   ]
  },
  {
   "cell_type": "code",
   "execution_count": 27,
   "metadata": {},
   "outputs": [
    {
     "name": "stdout",
     "output_type": "stream",
     "text": [
      "{'list': [1, 2, 3, 4], 'fruits': 'apple,mango'}\n",
      "dict_keys(['list', 'fruits'])\n",
      "dict_values([[1, 2, 3, 4], 'apple,mango'])\n",
      "dict_items([('list', [1, 2, 3, 4]), ('fruits', 'apple,mango')])\n",
      "{'list': [1, 2, 3, 4], 'fruits': 'apple,mango', 'students': 'bct,bel,bex'}\n"
     ]
    }
   ],
   "source": [
    "nce={\"list\":[1,2,3,4],\"fruits\":\"apple,mango\"}\n",
    "print(nce)\n",
    "print(nce.keys())\n",
    "print(nce.values())\n",
    "print(nce.items())\n",
    "a={\"students\":\"bct,bel,bex\"}\n",
    "nce.update(a)\n",
    "print(nce)\n"
   ]
  },
  {
   "cell_type": "code",
   "execution_count": 28,
   "metadata": {},
   "outputs": [
    {
     "name": "stdout",
     "output_type": "stream",
     "text": [
      "<class 'set'>\n",
      "{1, 2, 3, 4}\n",
      "{1, 2, 3, 4, 5}\n",
      "{1, 2, 3, 4, 5, (6, 7, 8)}\n",
      "<class 'set'>\n"
     ]
    }
   ],
   "source": [
    "# set\n",
    "a={1,2,3,4}\n",
    "print(type(a))\n",
    "print(a)\n",
    "a.add(5)\n",
    "print(a)\n",
    "# can add tuples but can't add list\n",
    "a.add((6,7,8))\n",
    "print(a)\n",
    "# emptyset\n",
    "a=set()\n",
    "print(type(a))\n",
    "# adding values to empty set\n"
   ]
  },
  {
   "cell_type": "code",
   "execution_count": 29,
   "metadata": {},
   "outputs": [
    {
     "name": "stdout",
     "output_type": "stream",
     "text": [
      "4\n",
      "{1, 2, 4}\n",
      "set()\n"
     ]
    }
   ],
   "source": [
    "a={1,2,3,4}\n",
    "print(len(a))\n",
    "a.remove(3)\n",
    "print(a)\n",
    "# empties the set\n",
    "a.clear()\n",
    "print(a)\n"
   ]
  },
  {
   "cell_type": "code",
   "execution_count": 30,
   "metadata": {},
   "outputs": [
    {
     "name": "stdout",
     "output_type": "stream",
     "text": [
      "{1, 2, 3, 4, 5, 7}\n",
      "{2, 3}\n"
     ]
    }
   ],
   "source": [
    "a={1,2,3,4}\n",
    "b=a.union({5,4,7})\n",
    "print(b)\n",
    "c=a.intersection({2,3,8,9})\n",
    "print(c)"
   ]
  },
  {
   "cell_type": "code",
   "execution_count": 31,
   "metadata": {},
   "outputs": [
    {
     "name": "stdout",
     "output_type": "stream",
     "text": [
      "the value of a is not greater than 3 or 7\n"
     ]
    }
   ],
   "source": [
    "# conditional expressions\n",
    "a=3\n",
    "if (a>3):\n",
    "    print(\"value of a is greater than 3\" )\n",
    "elif(a>7):\n",
    "    print(\"the value of a is greater than 7\")\n",
    "else:\n",
    "    print(\"the value of a is not greater than 3 or 7\")\n",
    "    \n"
   ]
  },
  {
   "cell_type": "code",
   "execution_count": 32,
   "metadata": {},
   "outputs": [
    {
     "name": "stdout",
     "output_type": "stream",
     "text": [
      "no\n"
     ]
    }
   ],
   "source": [
    "# is and in\n",
    "a=1\n",
    "if(a is None):\n",
    "    print(\"yes\")\n",
    "else:\n",
    "    print(\"no\")"
   ]
  },
  {
   "cell_type": "code",
   "execution_count": 34,
   "metadata": {},
   "outputs": [
    {
     "name": "stdout",
     "output_type": "stream",
     "text": [
      "False\n"
     ]
    }
   ],
   "source": [
    "a=[1,2,3,4,5,6,90,59,50]\n",
    "print(100 in a)"
   ]
  },
  {
   "cell_type": "code",
   "execution_count": 35,
   "metadata": {},
   "outputs": [
    {
     "name": "stdout",
     "output_type": "stream",
     "text": [
      "1\n",
      "2\n",
      "3\n",
      "4\n",
      "5\n"
     ]
    }
   ],
   "source": [
    "# for loop\n",
    "# Print numbers from 1 to 5\n",
    "for i in range(1, 6):\n",
    "\n",
    "    print(i)\n",
    "# end value specified in range() is not included in the generated sequence"
   ]
  },
  {
   "cell_type": "code",
   "execution_count": 36,
   "metadata": {},
   "outputs": [
    {
     "name": "stdout",
     "output_type": "stream",
     "text": [
      "1\n",
      "2\n",
      "3\n",
      "4\n",
      "5\n"
     ]
    }
   ],
   "source": [
    "# while loop\n",
    "# Print numbers from 1 to 5 using a while loop\n",
    "count = 1\n",
    "while count <= 5:\n",
    "    print(count)\n",
    "    count += 1\n"
   ]
  },
  {
   "cell_type": "code",
   "execution_count": 37,
   "metadata": {},
   "outputs": [
    {
     "name": "stdout",
     "output_type": "stream",
     "text": [
      "2\n",
      "4\n",
      "6\n",
      "8\n",
      "10\n"
     ]
    }
   ],
   "source": [
    "# Print even numbers from 2 to 10\n",
    "for num in range(2, 11, 2):\n",
    "    print(num)\n"
   ]
  }
 ],
 "metadata": {
  "kernelspec": {
   "display_name": "Python 3",
   "language": "python",
   "name": "python3"
  },
  "language_info": {
   "codemirror_mode": {
    "name": "ipython",
    "version": 3
   },
   "file_extension": ".py",
   "mimetype": "text/x-python",
   "name": "python",
   "nbconvert_exporter": "python",
   "pygments_lexer": "ipython3",
   "version": "3.12.0"
  }
 },
 "nbformat": 4,
 "nbformat_minor": 2
}
